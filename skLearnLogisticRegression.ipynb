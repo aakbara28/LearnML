{
 "cells": [
  {
   "cell_type": "code",
   "execution_count": 5,
   "id": "c95147ca",
   "metadata": {},
   "outputs": [
    {
     "name": "stdout",
     "output_type": "stream",
     "text": [
      "<class 'pandas.core.frame.DataFrame'>\n",
      "RangeIndex: 400 entries, 0 to 399\n",
      "Data columns (total 5 columns):\n",
      " #   Column           Non-Null Count  Dtype \n",
      "---  ------           --------------  ----- \n",
      " 0   User ID          400 non-null    int64 \n",
      " 1   Gender           400 non-null    object\n",
      " 2   Age              400 non-null    int64 \n",
      " 3   EstimatedSalary  400 non-null    int64 \n",
      " 4   Purchased        400 non-null    int64 \n",
      "dtypes: int64(4), object(1)\n",
      "memory usage: 15.8+ KB\n"
     ]
    },
    {
     "data": {
      "text/plain": [
       "0.825"
      ]
     },
     "execution_count": 5,
     "metadata": {},
     "output_type": "execute_result"
    }
   ],
   "source": [
    "# logistic regression untuk memprediksi apakah seseorang akan membeli setelah melihat iklan sebuah produk. \n",
    "\n",
    "# mengubah dataset menjadi dataframe Pandas. Jangan lupa untuk mengimpor library dasar dan menyesuaikan path/lokasi datanya ya.\n",
    "\n",
    "import pandas as pd\n",
    "\n",
    "# membaca dataset dan mengubahnya menjadi dataframe\n",
    "df = pd.read_csv('Social_Network_Ads.csv')\n",
    "\n",
    "# fungsi head() pada dataframe untuk melihat 5 baris pertama dari dataset.\n",
    "df.head()\n",
    "\n",
    "# melihat apakah ada nilai yang kosong pada setiap atribut dengan menggunakan fungsi info().\n",
    "df.info()\n",
    "\n",
    "# drop kolom yang tidak diperlukan\n",
    "data = df.drop(columns=['User ID'])\n",
    "\n",
    "# jalankan proses one-hot encoding(karena label pada dataset kita merupakan data kategorikal) dengan pd.get_dummies()\n",
    "data = pd.get_dummies(data)\n",
    "data\n",
    "\n",
    "# pisahkan atribut dan label\n",
    "predictions = ['Age' , 'EstimatedSalary' , 'Gender_Female' , 'Gender_Male']\n",
    "X = data[predictions]\n",
    "y = data['Purchased']\n",
    "\n",
    "# lakukan normalisasi terhadap data yang kita miliki\n",
    "from sklearn.preprocessing import StandardScaler\n",
    "scaler = StandardScaler()\n",
    "scaler.fit(X)\n",
    "scaled_data = scaler.transform(X)\n",
    "scaled_data = pd.DataFrame(scaled_data, columns= X.columns)\n",
    "scaled_data.head()\n",
    "\n",
    "from sklearn.model_selection import train_test_split\n",
    " \n",
    "# bagi data menjadi train dan test untuk setiap atribut dan label\n",
    "X_train, X_test, y_train, y_test = train_test_split(scaled_data, y, test_size=0.2, random_state=1)\n",
    "\n",
    "from sklearn import linear_model\n",
    " \n",
    "# latih model dengan fungsi fit\n",
    "model = linear_model.LogisticRegression()\n",
    "model.fit(X_train, y_train)\n",
    "\n",
    "# uji akurasi model\n",
    "model.score(X_test, y_test)"
   ]
  },
  {
   "cell_type": "code",
   "execution_count": null,
   "id": "2dc59650",
   "metadata": {},
   "outputs": [],
   "source": []
  }
 ],
 "metadata": {
  "kernelspec": {
   "display_name": "Python 3 (ipykernel)",
   "language": "python",
   "name": "python3"
  },
  "language_info": {
   "codemirror_mode": {
    "name": "ipython",
    "version": 3
   },
   "file_extension": ".py",
   "mimetype": "text/x-python",
   "name": "python",
   "nbconvert_exporter": "python",
   "pygments_lexer": "ipython3",
   "version": "3.9.13"
  }
 },
 "nbformat": 4,
 "nbformat_minor": 5
}
