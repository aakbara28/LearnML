{
 "cells": [
  {
   "cell_type": "code",
   "execution_count": 2,
   "id": "d38e4737",
   "metadata": {},
   "outputs": [
    {
     "name": "stdout",
     "output_type": "stream",
     "text": [
      "random_state ditentukan\n",
      "[8, 1, 5]\n",
      "[8, 1, 5]\n",
      "[8, 1, 5]\n",
      "random_state tidak ditentukan\n",
      "[8, 4, 2]\n",
      "[4, 8, 3]\n",
      "[3, 1, 7]\n"
     ]
    }
   ],
   "source": [
    "from sklearn.model_selection import train_test_split\n",
    " \n",
    "X_data = range(10)\n",
    "y_data = range(10)\n",
    " \n",
    "print(\"random_state ditentukan\")\n",
    "for i in range(3):\n",
    "    X_train, X_test, y_train, y_test = train_test_split(X_data, y_data, test_size = 0.3, random_state = 42)\n",
    "    print(y_test)\n",
    " \n",
    " \n",
    "print(\"random_state tidak ditentukan\")\n",
    "for i in range(3):\n",
    "    X_train, X_test, y_train, y_test = train_test_split(X_data, y_data, test_size = 0.3, random_state = None)\n",
    "    print(y_test)"
   ]
  },
  {
   "cell_type": "code",
   "execution_count": null,
   "id": "eda04d72",
   "metadata": {},
   "outputs": [],
   "source": []
  }
 ],
 "metadata": {
  "kernelspec": {
   "display_name": "Python 3 (ipykernel)",
   "language": "python",
   "name": "python3"
  },
  "language_info": {
   "codemirror_mode": {
    "name": "ipython",
    "version": 3
   },
   "file_extension": ".py",
   "mimetype": "text/x-python",
   "name": "python",
   "nbconvert_exporter": "python",
   "pygments_lexer": "ipython3",
   "version": "3.9.13"
  }
 },
 "nbformat": 4,
 "nbformat_minor": 5
}
